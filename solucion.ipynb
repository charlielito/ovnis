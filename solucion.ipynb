{
 "cells": [
  {
   "cell_type": "markdown",
   "metadata": {},
   "source": [
    "# Datathon the Interbank\n",
    "Este cuaderno contiene las respuestas a las preguntas publicadas en la competencia Datathon de Interbank.\n",
    "\n",
    "**Nombre del equipo:** Quatum Blockchain AI.\n",
    "\n",
    "**Integrantes:**\n",
    "- **Carlos Andres Alvarez** \n",
    "- **Cristian Garcia:** *cgarcia.e88@gmail.com*\n",
    "- **David Cardozo**\n",
    "- **Sebastián Colinas**"
   ]
  },
  {
   "cell_type": "markdown",
   "metadata": {},
   "source": [
    "## Estadística y de Cloud"
   ]
  },
  {
   "cell_type": "markdown",
   "metadata": {},
   "source": [
    "**1. Qué emplearías para reducier la dimensionalidad de variables cualitativas?**\n",
    "\n",
    "Para reducir la dimensionalidad de variables categoricas se puede usar [MCA](https://en.wikipedia.org/wiki/Multiple_correspondence_analysis) o [CAPTCA](https://www.ncbi.nlm.nih.gov/pubmed/22176263).\n",
    "\n",
    "**2. Las metodologías que se utilizan para medir la eficacia de los modelos de propensión de variable cualitativa o modelos de clasificación son diversas, mencione 2 de ellas y las características fundamentales de ellas.**\n",
    "\n",
    "Entre los métodos de clasificación sobresalen las redes neuronales (incluyendo su versiones convolucional y recurrente), los cuales se cacterizan por aprender características importantes para la clasificación en lugar de los datos, lo cual se diferencia de otros métodos de machine learning; estos métodos además permiten modelar relaciones no lineales entre los datos. Otro método es la regresión logística, el cual está incialmente definido para problemas de clasificación binarios y permite estimar la probabilidad de una clase dados los datos, lo más importante de este método es que utiliza una función sigmoide para estimar esta probabilidad y que es un método lineal, por lo que usualmente requiere el diseño manual de algunas características relevantes para la clasificación.\n",
    "\n",
    "**Nota:** consideramos que no se debe usar indistinguidamente las palabras categórica y cualitativa; nuestra respuesta la realizamos asumiento que se referían a variables categóricas, es decir, las que se intentan predecir con los modelos de clasificación.\n",
    "\n",
    "**3. El modelamiento usualmente requiere alterar las muestras, esto es conocido como oversampling, luego del modelamiento, es posible corregir dichas probabilidades para volver a su distribución original? Cómo?**\n",
    "\n",
    "Asumiendo que el modelo es una regresion logistica, la formula de correcion para el intercepto es\n",
    "\n",
    "$\n",
    "\\alpha_0 = \\alpha_1 + \\log \\frac{r_1( 1 - p_0)}{p_0 (1 - r_1) }\n",
    "$\n",
    "\n",
    "donde\n",
    "* $\\alpha_0$ es el intercepto de la distribucion original\n",
    "* $\\alpha_1$ es el intercepto de la distribucion con oversampling\n",
    "* $r_1$ es la proporcion de las clases despues de oversampling\n",
    "* $p_0$ es la proporcion de las clases antes de oversampling\n",
    "\n",
    "Ahora solo tenemos que reemplazar este intercepto por el intercepto que encontro el algoritmo.\n",
    "\n",
    "**Nota:** el oversampling no altera las muestras, altera la distrubucion de las caracteristicas sobre el conjunto de datos.\n",
    "\n",
    "**4. Cuál es el valor agregado de un Modelo predictivo Bayesiano sobre un Modelo de Machine Learning?**\n",
    "    \n",
    "Los modelos Bayesianos permiten extraer intervalos de confianza sobre los resultados y al mismo tiempo permiten una mayor interpretabilidad de los resultados. \n",
    "\n",
    "**5. Mencione las diferencias y beneficios de trabajar con datos en la nube vs on premise.**\n",
    "\n",
    "Trabajar en la nube permite trabajar con grandes volúmenes de datos de forma efectiva, así como la disponibilidad de de equipos de cómputo especializados como GPU. Sin embargo, se incurre en varios tipos de costos: administración de la plataforma en la nube, capacitación de los desarrolladores o científicos, costos de cómputo y costos de almacenamiento.\n",
    "\n",
    "Por otro lado, trabajar *on premise* o en un entorno local, permite iterar más rápidamente sobre las alternativas de solución disponibles, aunque solo es efectivo cuando se tienen bajos volúmenes de datos y se itera con modelos pequeños."
   ]
  },
  {
   "cell_type": "markdown",
   "metadata": {},
   "source": [
    "## Programación "
   ]
  },
  {
   "cell_type": "code",
   "execution_count": 1,
   "metadata": {},
   "outputs": [],
   "source": [
    "import numpy as np\n",
    "import math"
   ]
  },
  {
   "cell_type": "markdown",
   "metadata": {},
   "source": [
    "![](pregunta1.png)"
   ]
  },
  {
   "cell_type": "code",
   "execution_count": 3,
   "metadata": {},
   "outputs": [],
   "source": [
    "def find_fibonacci_index(n):\n",
    "    \"\"\"\n",
    "    Find the index of a given fibonacci number n.\n",
    "    If the provided number is not an interger, it will be casted as such.\n",
    "    \n",
    "    \"\"\"\n",
    "    n = int(n)\n",
    "    if n == 0:\n",
    "        return 0\n",
    "    elif n < 0:\n",
    "        raise RunTimeError(\"Fibonnacci numbers are only defined for positive integers\")\n",
    "    else:\n",
    "        eps = 10**-10\n",
    "        phi = (1+math.sqrt(5))/2 \n",
    "        fibonacci_index = int(round(math.log(n * math.sqrt(5)+eps)/math.log(phi)))\n",
    "        return fibonacci_index\n",
    "\n",
    "def fib(idx):\n",
    "    phi = (1+math.sqrt(5))/2\n",
    "    return math.floor((phi**idx)/math.sqrt(5) + 0.5)\n",
    "        \n",
    "def prev_two_fibonacci(n):\n",
    "    \"\"\"\n",
    "    Find the previous two fibonacci's numbers given\n",
    "    a fibonacci number.\n",
    "    \n",
    "    \"\"\"\n",
    "    if n <= 0:\n",
    "        raise RuntimeError(\"Zero is the first fibonacci number\")\n",
    "    else:\n",
    "        idx = find_fibonacci_index(n)\n",
    "        return fib(idx-1), fib(idx-2)"
   ]
  },
  {
   "cell_type": "code",
   "execution_count": 4,
   "metadata": {},
   "outputs": [
    {
     "data": {
      "text/plain": [
       "(4181, 2584)"
      ]
     },
     "execution_count": 4,
     "metadata": {},
     "output_type": "execute_result"
    }
   ],
   "source": [
    "prev_two_fibonacci(6765)"
   ]
  },
  {
   "cell_type": "markdown",
   "metadata": {},
   "source": [
    "![](pregunta2.png)"
   ]
  },
  {
   "cell_type": "markdown",
   "metadata": {},
   "source": [
    "**Nota**: consideramos que la pregunta está redactada equivocadamente. Según la imágen, se pregunta por la matrix transpuesta por la antidiagonal en lugar de la inversa."
   ]
  },
  {
   "cell_type": "code",
   "execution_count": 41,
   "metadata": {},
   "outputs": [
    {
     "data": {
      "text/plain": [
       "array([[11, 12, 13, 14],\n",
       "       [21, 22, 23, 24],\n",
       "       [31, 32, 33, 34],\n",
       "       [41, 42, 43, 44]])"
      ]
     },
     "execution_count": 41,
     "metadata": {},
     "output_type": "execute_result"
    }
   ],
   "source": [
    "source = np.array([[11,12,13,14],[21,22,23,24],[31,32,33,34],[41,42,43,44]])\n",
    "source"
   ]
  },
  {
   "cell_type": "code",
   "execution_count": 42,
   "metadata": {},
   "outputs": [],
   "source": [
    "def transpose_antidiagonal(matrix):\n",
    "    \"\"\"Transpose a matrix by the antidiagonal.\n",
    "    \n",
    "    Args:\n",
    "        matrix: a 2d numpy.ndarray\n",
    "        \n",
    "    Return:\n",
    "        The transposed matrix\n",
    "    \"\"\"\n",
    "\n",
    "    return matrix[::-1, ::-1].T"
   ]
  },
  {
   "cell_type": "code",
   "execution_count": 43,
   "metadata": {},
   "outputs": [
    {
     "data": {
      "text/plain": [
       "array([[44, 34, 24, 14],\n",
       "       [43, 33, 23, 13],\n",
       "       [42, 32, 22, 12],\n",
       "       [41, 31, 21, 11]])"
      ]
     },
     "execution_count": 43,
     "metadata": {},
     "output_type": "execute_result"
    }
   ],
   "source": [
    "transpose_antidiagonal(source)"
   ]
  },
  {
   "cell_type": "markdown",
   "metadata": {},
   "source": [
    "![](pregunta3.png)"
   ]
  },
  {
   "cell_type": "code",
   "execution_count": 37,
   "metadata": {},
   "outputs": [],
   "source": [
    "def get_unique_and_sort(iterable):\n",
    "    \"\"\"Get a sorted list of the unique elements of iterable\n",
    "    \n",
    "    Args:\n",
    "        iterable: a 1 dimensional array \n",
    "    \n",
    "    Returns:\n",
    "        A sorted list of the unique elements from the iterable\n",
    "    \"\"\"\n",
    "    unique = set(iterable)\n",
    "    ordered = sorted(unique)\n",
    "    return ordered"
   ]
  },
  {
   "cell_type": "code",
   "execution_count": 38,
   "metadata": {},
   "outputs": [
    {
     "data": {
      "text/plain": [
       "[1, 2, 3, 6, 8, 10]"
      ]
     },
     "execution_count": 38,
     "metadata": {},
     "output_type": "execute_result"
    }
   ],
   "source": [
    "get_unique_and_sort([10,8,1,1,3,6,2])"
   ]
  },
  {
   "cell_type": "markdown",
   "metadata": {},
   "source": [
    "**Nota:** segun la pregunta, asumiremos que el arreglo de entrada a la función tiene una sola dimensión"
   ]
  }
 ],
 "metadata": {
  "kernelspec": {
   "display_name": "Python 3",
   "language": "python",
   "name": "python3"
  },
  "language_info": {
   "codemirror_mode": {
    "name": "ipython",
    "version": 3
   },
   "file_extension": ".py",
   "mimetype": "text/x-python",
   "name": "python",
   "nbconvert_exporter": "python",
   "pygments_lexer": "ipython3",
   "version": "3.6.3"
  }
 },
 "nbformat": 4,
 "nbformat_minor": 2
}
